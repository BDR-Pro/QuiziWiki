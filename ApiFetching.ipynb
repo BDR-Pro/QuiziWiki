{
 "cells": [
  {
   "cell_type": "code",
   "execution_count": null,
   "metadata": {},
   "outputs": [],
   "source": [
    "import requests\n",
    "import json\n",
    "from dotenv import load_dotenv\n",
    "import os\n",
    "\n",
    "# Load environment variables from .env file\n",
    "load_dotenv()\n",
    "\n",
    "# Access an environment variable\n",
    "api = os.getenv('API')\n",
    "\n",
    "url = \"https://ap-south-1.aws.data.mongodb-api.com/app/data-nzfhz/endpoint/data/v1/action/findOne\"\n",
    "\n",
    "payload = json.dumps({\n",
    "    \"collection\": \"FinalQuestions\",\n",
    "    \"database\": \"WIKIQUIZ\",\n",
    "    \"dataSource\": \"Cluster0\",\n",
    "    \"projection\": {\n",
    "        \"_id\": 1\n",
    "    }\n",
    "})\n",
    "headers = {\n",
    "  'Content-Type': 'application/json',\n",
    "  'Access-Control-Request-Headers': '*',\n",
    "  'api-key': api,\n",
    "}\n",
    "\n",
    "response = requests.request(\"POST\", url, headers=headers, data=payload)\n",
    "\n",
    "print(response.text)\n"
   ]
  }
 ],
 "metadata": {
  "kernelspec": {
   "display_name": "Python 3",
   "language": "python",
   "name": "python3"
  },
  "language_info": {
   "codemirror_mode": {
    "name": "ipython",
    "version": 3
   },
   "file_extension": ".py",
   "mimetype": "text/x-python",
   "name": "python",
   "nbconvert_exporter": "python",
   "pygments_lexer": "ipython3",
   "version": "3.12.0"
  }
 },
 "nbformat": 4,
 "nbformat_minor": 2
}
